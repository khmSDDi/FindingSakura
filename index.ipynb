{
 "cells": [
  {
   "cell_type": "markdown",
   "id": "d38dd6e3-9f21-46ec-ae78-645f7481fe59",
   "metadata": {},
   "source": [
    "## Finding Sakura"
   ]
  },
  {
   "cell_type": "markdown",
   "id": "3b0a9212-92c1-4521-a4bc-1b12a2828e07",
   "metadata": {},
   "source": [
    "Help us find anomalies from space!"
   ]
  },
  {
   "cell_type": "code",
   "execution_count": 2,
   "id": "e0558e88-b3a3-447f-a0a0-06fcb60de4d5",
   "metadata": {},
   "outputs": [],
   "source": [
    "# Drop Down Widgets\n",
    "import ipywidgets as widgets\n",
    "from ipywidgets import Button, Layout, HBox, VBox\n",
    "from ipyleaflet import Map, basemaps, basemap_to_tiles"
   ]
  },
  {
   "cell_type": "code",
   "execution_count": 7,
   "id": "3205174e-b52b-4940-b987-d88158b7a075",
   "metadata": {},
   "outputs": [
    {
     "data": {
      "application/vnd.jupyter.widget-view+json": {
       "model_id": "3a66de7e8a244f11b915c2b20c20613d",
       "version_major": 2,
       "version_minor": 0
      },
      "text/plain": [
       "Dropdown(description='Choose an Event:', options=(('2022 | Pakistan', 'FE1'), ('2024 | Naga', 'FE2'), ('2024 |…"
      ]
     },
     "metadata": {},
     "output_type": "display_data"
    }
   ],
   "source": [
    "# Event Selection\n",
    "dropdown_event = widgets.Dropdown(\n",
    "    options=[('2022 | Pakistan', 'FE1'), ('2024 | Naga', 'FE2'), ('2024 | Spain', 'FE3')],\n",
    "    value='FE1',\n",
    "    description='Choose an Event:',\n",
    ")\n",
    "\n",
    "def on_change(change):\n",
    "    if change['type'] == 'change' and change['name'] == 'value':\n",
    "        print(\"changed to %s\" % change['new'])\n",
    "        \n",
    "dropdown_event.observe(on_change)\n",
    "\n",
    "display(dropdown_event)"
   ]
  },
  {
   "cell_type": "code",
   "execution_count": 8,
   "id": "904dacda-ae9a-4783-b95c-c315621ae3a7",
   "metadata": {},
   "outputs": [],
   "source": [
    "# Load Events\n",
    "\n",
    "import pandas as pd\n",
    "\n",
    "BASE_DATE = '2020-01-01'"
    "\n",
    "csv_event = pd.read_csv('FindingSakura - FS_events.csv')"
   ]
  },
  {
   "cell_type": "code",
   "execution_count": 15,
   "id": "016816ca-1ff6-46f5-9a84-fa401907e270",
   "metadata": {},
   "outputs": [
    {
     "data": {
      "application/vnd.jupyter.widget-view+json": {
       "model_id": "732347b68ad0437babbe914947099a62",
       "version_major": 2,
       "version_minor": 0
      },
      "text/plain": [
       "Button(description='Run', style=ButtonStyle())"
      ]
     },
     "metadata": {},
     "output_type": "display_data"
    },
    {
     "data": {
      "application/vnd.jupyter.widget-view+json": {
       "model_id": "a24b4aab7ff84ed7a4845d87933d8e3f",
       "version_major": 2,
       "version_minor": 0
      },
      "text/plain": [
       "Output()"
      ]
     },
     "metadata": {},
     "output_type": "display_data"
    }
   ],
   "source": [
    "from IPython.display import display\n",
    "button_run = widgets.Button(description=\"Run\")\n",
    "output_run = widgets.Output()\n",
    "\n",
    "display(button_run, output_run)\n",
    "\n",
    "def event_details_disp(event, w_event):\n",
    "    # Generates the details of the selected event\n",
    "    event_row = event.loc[event['flood_event_code'] == w_event]\n",
    "    event_loc = [event_row.iloc[0,3], event_row.iloc[0,4]]\n",
    "    return event_row, event_loc\n",
    "\n",
    "def create_map(date, loc):\n",
    "    # Map Base\n",
    "    m = Map(\n",
    "        basemap=basemap_to_tiles(basemaps.NASAGIBS.ModisTerraTrueColorCR, date),\n",
    "        center=(loc),\n",
    "        zoom=4\n",
    "        )\n",
    "    return m\n",
    "\n",
    "def on_button_clicked(b):\n",
    "    with output_run:\n",
    "        # Extract Event Details\n",
    "        event_code = dropdown_event.value # override\n",
    "        w_event_row, LOCATION = event_details_disp(csv_event, event_code)\n",
    "        display(w_event_row)\n",
    "        #display(LOCATION) ### DEBUG-OK\n",
    "        #Create Map\n",
    "        z = create_map(BASE_DATE, LOCATION)\n",
    "        display(z)\n",
    "\n",
    "button_run.on_click(on_button_clicked)"
   ]
  },
  {
   "cell_type": "markdown",
   "id": "cd42eb36-7de7-4cec-9bed-8ea4f7d02f45",
   "metadata": {},
   "source": [
    "# UNDER DEVT"
   ]
  },
  {
   "cell_type": "code",
   "execution_count": null,
   "id": "9fe4251c-543d-4785-a57b-54f2e0025ab0",
   "metadata": {},
   "outputs": [],
   "source": [
    "# Map Layer\n",
    "items_layout = Layout(width = 'auto')\n",
    "\n",
    "box_layout = Layout(display='flex',\n",
    "                    flex_flow='row',\n",
    "                    align_items='stretch',\n",
    "                    #border='solid',\n",
    "                    width='100%')\n",
    "\n",
    "words = ['FLOOD', 'WATER QUALITY']\n",
    "items = [Button(description=w, layout=items_layout, button_style = 'info') for w in words]\n",
    "left_box = VBox([items[0]])\n",
    "right_box = VBox([items[1]])\n",
    "HBox([left_box, right_box], layout=box_layout)"
   ]
  },
  {
   "cell_type": "code",
   "execution_count": null,
   "id": "b4a39898-2c1a-4c36-ab52-f494c9bc4711",
   "metadata": {},
   "outputs": [],
   "source": []
  }
 ],
 "metadata": {
  "kernelspec": {
   "display_name": "Python 3 (ipykernel)",
   "language": "python",
   "name": "python3"
  },
  "language_info": {
   "codemirror_mode": {
    "name": "ipython",
    "version": 3
   },
   "file_extension": ".py",
   "mimetype": "text/x-python",
   "name": "python",
   "nbconvert_exporter": "python",
   "pygments_lexer": "ipython3",
   "version": "3.11.9"
  }
 },
 "nbformat": 4,
 "nbformat_minor": 5
}
